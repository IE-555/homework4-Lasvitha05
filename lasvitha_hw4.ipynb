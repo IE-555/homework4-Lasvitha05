{
 "cells": [
  {
   "cell_type": "markdown",
   "id": "e70b2900",
   "metadata": {},
   "source": [
    "# Homework 4: Data Visualization"
   ]
  },
  {
   "cell_type": "markdown",
   "id": "443677b8",
   "metadata": {},
   "source": [
    "Name : Lasvitha Pregada ;\n",
    "UB username : Lasvitha ;\n",
    "UB Person Number : 50540960"
   ]
  },
  {
   "cell_type": "markdown",
   "id": "a3aebb12",
   "metadata": {},
   "source": [
    "# Part 1 : Generate Plots according to specifications"
   ]
  },
  {
   "cell_type": "markdown",
   "id": "c9586e08",
   "metadata": {},
   "source": [
    "1. A scatter plot with a line"
   ]
  },
  {
   "cell_type": "code",
   "execution_count": 2,
   "id": "27fef88c",
   "metadata": {},
   "outputs": [],
   "source": [
    "import pandas as pd"
   ]
  },
  {
   "cell_type": "code",
   "execution_count": 3,
   "id": "1c99c038",
   "metadata": {},
   "outputs": [
    {
     "data": {
      "text/html": [
       "<div>\n",
       "<style scoped>\n",
       "    .dataframe tbody tr th:only-of-type {\n",
       "        vertical-align: middle;\n",
       "    }\n",
       "\n",
       "    .dataframe tbody tr th {\n",
       "        vertical-align: top;\n",
       "    }\n",
       "\n",
       "    .dataframe thead th {\n",
       "        text-align: right;\n",
       "    }\n",
       "</style>\n",
       "<table border=\"1\" class=\"dataframe\">\n",
       "  <thead>\n",
       "    <tr style=\"text-align: right;\">\n",
       "      <th></th>\n",
       "      <th>% x</th>\n",
       "      <th>y</th>\n",
       "    </tr>\n",
       "  </thead>\n",
       "  <tbody>\n",
       "    <tr>\n",
       "      <th>0</th>\n",
       "      <td>95.954341</td>\n",
       "      <td>328.375777</td>\n",
       "    </tr>\n",
       "    <tr>\n",
       "      <th>1</th>\n",
       "      <td>60.162754</td>\n",
       "      <td>259.053445</td>\n",
       "    </tr>\n",
       "    <tr>\n",
       "      <th>2</th>\n",
       "      <td>52.754898</td>\n",
       "      <td>207.792989</td>\n",
       "    </tr>\n",
       "    <tr>\n",
       "      <th>3</th>\n",
       "      <td>88.034798</td>\n",
       "      <td>333.209632</td>\n",
       "    </tr>\n",
       "    <tr>\n",
       "      <th>4</th>\n",
       "      <td>80.271275</td>\n",
       "      <td>290.042475</td>\n",
       "    </tr>\n",
       "  </tbody>\n",
       "</table>\n",
       "</div>"
      ],
      "text/plain": [
       "         % x          y \n",
       "0  95.954341  328.375777\n",
       "1  60.162754  259.053445\n",
       "2  52.754898  207.792989\n",
       "3  88.034798  333.209632\n",
       "4  80.271275  290.042475"
      ]
     },
     "execution_count": 3,
     "metadata": {},
     "output_type": "execute_result"
    }
   ],
   "source": [
    "df=pd.read_csv(\"scatter_data.csv\")\n",
    "df.head()\n",
    "df.dtypes\n",
    "df.head()"
   ]
  },
  {
   "cell_type": "code",
   "execution_count": 4,
   "id": "b856010a",
   "metadata": {},
   "outputs": [
    {
     "data": {
      "text/html": [
       "<div>\n",
       "<style scoped>\n",
       "    .dataframe tbody tr th:only-of-type {\n",
       "        vertical-align: middle;\n",
       "    }\n",
       "\n",
       "    .dataframe tbody tr th {\n",
       "        vertical-align: top;\n",
       "    }\n",
       "\n",
       "    .dataframe thead th {\n",
       "        text-align: right;\n",
       "    }\n",
       "</style>\n",
       "<table border=\"1\" class=\"dataframe\">\n",
       "  <thead>\n",
       "    <tr style=\"text-align: right;\">\n",
       "      <th></th>\n",
       "      <th>% x</th>\n",
       "      <th>y</th>\n",
       "    </tr>\n",
       "  </thead>\n",
       "  <tbody>\n",
       "  </tbody>\n",
       "</table>\n",
       "</div>"
      ],
      "text/plain": [
       "Empty DataFrame\n",
       "Columns: [% x,  y ]\n",
       "Index: []"
      ]
     },
     "execution_count": 4,
     "metadata": {},
     "output_type": "execute_result"
    }
   ],
   "source": [
    "check1=df[\"% x\"].astype(str).str.startswith(\"%\")\n",
    "check2=df[\" y \"].astype(str).str.startswith(\"%\")\n",
    "new_df=df[check1]\n",
    "new_df=df[check2]\n",
    "new_df[\"% x\"]=new_df[\"% x\"].astype(str).str.replace(\"%\",\"\")\n",
    "new_df[\" y \"]=new_df[\" y \"].astype(str).str.replace(\"%\",\"\")\n",
    "\n",
    "new_df.head()"
   ]
  },
  {
   "cell_type": "code",
   "execution_count": 5,
   "id": "0640c917",
   "metadata": {},
   "outputs": [
    {
     "name": "stdout",
     "output_type": "stream",
     "text": [
      "% x    object\n",
      " y     object\n",
      "dtype: object\n"
     ]
    }
   ],
   "source": [
    "print(new_df.dtypes)"
   ]
  },
  {
   "cell_type": "code",
   "execution_count": 6,
   "id": "6e654a94",
   "metadata": {},
   "outputs": [
    {
     "data": {
      "text/plain": [
       "% x    float64\n",
       " y     float64\n",
       "dtype: object"
      ]
     },
     "execution_count": 6,
     "metadata": {},
     "output_type": "execute_result"
    }
   ],
   "source": [
    "new_df[\"% x\"]=pd.to_numeric(df[\"% x\"],errors=\"coerce\")\n",
    "new_df[\" y \"]=pd.to_numeric(df[\" y \"],errors=\"coerce\")\n",
    "new_df.dtypes"
   ]
  },
  {
   "cell_type": "code",
   "execution_count": 7,
   "id": "f885f572",
   "metadata": {},
   "outputs": [
    {
     "data": {
      "text/html": [
       "<div>\n",
       "<style scoped>\n",
       "    .dataframe tbody tr th:only-of-type {\n",
       "        vertical-align: middle;\n",
       "    }\n",
       "\n",
       "    .dataframe tbody tr th {\n",
       "        vertical-align: top;\n",
       "    }\n",
       "\n",
       "    .dataframe thead th {\n",
       "        text-align: right;\n",
       "    }\n",
       "</style>\n",
       "<table border=\"1\" class=\"dataframe\">\n",
       "  <thead>\n",
       "    <tr style=\"text-align: right;\">\n",
       "      <th></th>\n",
       "      <th>% x</th>\n",
       "      <th>y</th>\n",
       "    </tr>\n",
       "  </thead>\n",
       "  <tbody>\n",
       "    <tr>\n",
       "      <th>0</th>\n",
       "      <td>95.954341</td>\n",
       "      <td>328.375777</td>\n",
       "    </tr>\n",
       "    <tr>\n",
       "      <th>1</th>\n",
       "      <td>60.162754</td>\n",
       "      <td>259.053445</td>\n",
       "    </tr>\n",
       "    <tr>\n",
       "      <th>2</th>\n",
       "      <td>52.754898</td>\n",
       "      <td>207.792989</td>\n",
       "    </tr>\n",
       "    <tr>\n",
       "      <th>3</th>\n",
       "      <td>88.034798</td>\n",
       "      <td>333.209632</td>\n",
       "    </tr>\n",
       "    <tr>\n",
       "      <th>4</th>\n",
       "      <td>80.271275</td>\n",
       "      <td>290.042475</td>\n",
       "    </tr>\n",
       "  </tbody>\n",
       "</table>\n",
       "</div>"
      ],
      "text/plain": [
       "         % x          y \n",
       "0  95.954341  328.375777\n",
       "1  60.162754  259.053445\n",
       "2  52.754898  207.792989\n",
       "3  88.034798  333.209632\n",
       "4  80.271275  290.042475"
      ]
     },
     "execution_count": 7,
     "metadata": {},
     "output_type": "execute_result"
    }
   ],
   "source": [
    "new_df.head()"
   ]
  },
  {
   "cell_type": "code",
   "execution_count": 8,
   "id": "a4edc161",
   "metadata": {},
   "outputs": [],
   "source": [
    "import matplotlib.pyplot as plt"
   ]
  },
  {
   "cell_type": "code",
   "execution_count": 9,
   "id": "d91790ef",
   "metadata": {},
   "outputs": [
    {
     "name": "stdout",
     "output_type": "stream",
     "text": [
      "50.095311\n",
      "99.863385\n",
      "117.316124\n",
      "413.559362\n"
     ]
    }
   ],
   "source": [
    "x_min=new_df[\"% x\"].min()\n",
    "print(x_min)\n",
    "x_max=new_df[\"% x\"].max()\n",
    "print(x_max)\n",
    "y_min=new_df[\" y \"].min()\n",
    "print(y_min)\n",
    "y_max=new_df[\" y \"].max()\n",
    "print(y_max)"
   ]
  },
  {
   "cell_type": "code",
   "execution_count": 10,
   "id": "2d3c7f33",
   "metadata": {},
   "outputs": [
    {
     "data": {
      "image/png": "[encoded data removed]",
      "text/plain": [
       "<Figure size 640x480 with 1 Axes>"
      ]
     },
     "metadata": {},
     "output_type": "display_data"
    }
   ],
   "source": [
    "new_df.plot.scatter(x=\"% x\", y=\" y \",marker='^',color=\"green\",s=45,label=\"Observations\")\n",
    "y_at_x_min = new_df[new_df['% x'] == x_min][' y '].iloc[0]\n",
    "y_at_x_max = new_df[new_df['% x'] == x_max][' y '].iloc[0]\n",
    "plt.hlines(y=y_at_x_max, xmin=x_min, xmax=x_max, colors='red', linestyles='--',label='extreme x points')\n",
    "\n",
    "plt.legend(loc=\"upper left\")\n",
    "plt.xlabel(\"x [inches]\")\n",
    "plt.ylabel(\"y [inches]\")\n",
    "plt.title(\"Widget Measurements\")\n",
    "\n",
    "x_range = x_max - x_min\n",
    "y_range = y_max - y_min\n",
    "\n",
    "plt.xlim(x_min - 0.1*x_range, x_max + 0.1*x_range)\n",
    "plt.ylim(y_min - 0.1*y_range, y_max + 0.1*y_range)\n",
    "plt.show()"
   ]
  },
  {
   "cell_type": "markdown",
   "id": "2658772e",
   "metadata": {},
   "source": [
    "2. A Histogram"
   ]
  },
  {
   "cell_type": "code",
   "execution_count": 11,
   "id": "fb7ff4b3",
   "metadata": {},
   "outputs": [
    {
     "data": {
      "text/html": [
       "<div>\n",
       "<style scoped>\n",
       "    .dataframe tbody tr th:only-of-type {\n",
       "        vertical-align: middle;\n",
       "    }\n",
       "\n",
       "    .dataframe tbody tr th {\n",
       "        vertical-align: top;\n",
       "    }\n",
       "\n",
       "    .dataframe thead th {\n",
       "        text-align: right;\n",
       "    }\n",
       "</style>\n",
       "<table border=\"1\" class=\"dataframe\">\n",
       "  <thead>\n",
       "    <tr style=\"text-align: right;\">\n",
       "      <th></th>\n",
       "      <th>% studentID</th>\n",
       "      <th>avgScore</th>\n",
       "    </tr>\n",
       "  </thead>\n",
       "  <tbody>\n",
       "    <tr>\n",
       "      <th>0</th>\n",
       "      <td>0</td>\n",
       "      <td>81.563259</td>\n",
       "    </tr>\n",
       "    <tr>\n",
       "      <th>1</th>\n",
       "      <td>1</td>\n",
       "      <td>67.426527</td>\n",
       "    </tr>\n",
       "    <tr>\n",
       "      <th>2</th>\n",
       "      <td>2</td>\n",
       "      <td>86.415197</td>\n",
       "    </tr>\n",
       "    <tr>\n",
       "      <th>3</th>\n",
       "      <td>3</td>\n",
       "      <td>80.387361</td>\n",
       "    </tr>\n",
       "    <tr>\n",
       "      <th>4</th>\n",
       "      <td>4</td>\n",
       "      <td>76.669249</td>\n",
       "    </tr>\n",
       "  </tbody>\n",
       "</table>\n",
       "</div>"
      ],
      "text/plain": [
       "   % studentID   avgScore \n",
       "0            0   81.563259\n",
       "1            1   67.426527\n",
       "2            2   86.415197\n",
       "3            3   80.387361\n",
       "4            4   76.669249"
      ]
     },
     "execution_count": 11,
     "metadata": {},
     "output_type": "execute_result"
    }
   ],
   "source": [
    "df2=pd.read_csv(\"student_grades.csv\")\n",
    "df2.head()"
   ]
  },
  {
   "cell_type": "code",
   "execution_count": 12,
   "id": "5e566345",
   "metadata": {},
   "outputs": [
    {
     "data": {
      "text/plain": [
       "% studentID      int64\n",
       " avgScore      float64\n",
       "dtype: object"
      ]
     },
     "execution_count": 12,
     "metadata": {},
     "output_type": "execute_result"
    }
   ],
   "source": [
    "df2.dtypes"
   ]
  },
  {
   "cell_type": "code",
   "execution_count": 13,
   "id": "e105ba64",
   "metadata": {},
   "outputs": [
    {
     "data": {
      "text/html": [
       "<div>\n",
       "<style scoped>\n",
       "    .dataframe tbody tr th:only-of-type {\n",
       "        vertical-align: middle;\n",
       "    }\n",
       "\n",
       "    .dataframe tbody tr th {\n",
       "        vertical-align: top;\n",
       "    }\n",
       "\n",
       "    .dataframe thead th {\n",
       "        text-align: right;\n",
       "    }\n",
       "</style>\n",
       "<table border=\"1\" class=\"dataframe\">\n",
       "  <thead>\n",
       "    <tr style=\"text-align: right;\">\n",
       "      <th></th>\n",
       "      <th>% studentID</th>\n",
       "      <th>avgScore</th>\n",
       "    </tr>\n",
       "  </thead>\n",
       "  <tbody>\n",
       "  </tbody>\n",
       "</table>\n",
       "</div>"
      ],
      "text/plain": [
       "Empty DataFrame\n",
       "Columns: [% studentID,  avgScore ]\n",
       "Index: []"
      ]
     },
     "execution_count": 13,
     "metadata": {},
     "output_type": "execute_result"
    }
   ],
   "source": [
    "check2_1=df2['% studentID'].astype(str).str.startswith(\"%\")\n",
    "check2_2=df2[\" avgScore \"].astype(str).str.startswith(\"%\")\n",
    "new_df2=df2[check2_1]\n",
    "new_df2=df2[check2_2]\n",
    "new_df2['% studentID']=new_df2['% studentID'].astype(str).str.replace(\"%\",\"\")\n",
    "new_df2[\" avgScore \"]=new_df2[\" avgScore \"].astype(str).str.replace(\"%\",\"\")\n",
    "\n",
    "new_df2.head()"
   ]
  },
  {
   "cell_type": "code",
   "execution_count": 14,
   "id": "c9b2d9f4",
   "metadata": {},
   "outputs": [
    {
     "name": "stdout",
     "output_type": "stream",
     "text": [
      "% studentID    object\n",
      " avgScore      object\n",
      "dtype: object\n"
     ]
    }
   ],
   "source": [
    "print(new_df2.dtypes)"
   ]
  },
  {
   "cell_type": "code",
   "execution_count": 15,
   "id": "a90a51d3",
   "metadata": {},
   "outputs": [
    {
     "data": {
      "text/plain": [
       "% studentID      int64\n",
       " avgScore      float64\n",
       "dtype: object"
      ]
     },
     "execution_count": 15,
     "metadata": {},
     "output_type": "execute_result"
    }
   ],
   "source": [
    "new_df2[\"% studentID\"]=pd.to_numeric(df2[\"% studentID\"],errors=\"coerce\")\n",
    "new_df2[\" avgScore \"]=pd.to_numeric(df2[\" avgScore \"],errors=\"coerce\")\n",
    "new_df2.dtypes"
   ]
  },
  {
   "cell_type": "code",
   "execution_count": 16,
   "id": "38279e7b",
   "metadata": {},
   "outputs": [
    {
     "data": {
      "text/html": [
       "<div>\n",
       "<style scoped>\n",
       "    .dataframe tbody tr th:only-of-type {\n",
       "        vertical-align: middle;\n",
       "    }\n",
       "\n",
       "    .dataframe tbody tr th {\n",
       "        vertical-align: top;\n",
       "    }\n",
       "\n",
       "    .dataframe thead th {\n",
       "        text-align: right;\n",
       "    }\n",
       "</style>\n",
       "<table border=\"1\" class=\"dataframe\">\n",
       "  <thead>\n",
       "    <tr style=\"text-align: right;\">\n",
       "      <th></th>\n",
       "      <th>% studentID</th>\n",
       "      <th>avgScore</th>\n",
       "    </tr>\n",
       "  </thead>\n",
       "  <tbody>\n",
       "    <tr>\n",
       "      <th>0</th>\n",
       "      <td>0</td>\n",
       "      <td>81.563259</td>\n",
       "    </tr>\n",
       "    <tr>\n",
       "      <th>1</th>\n",
       "      <td>1</td>\n",
       "      <td>67.426527</td>\n",
       "    </tr>\n",
       "    <tr>\n",
       "      <th>2</th>\n",
       "      <td>2</td>\n",
       "      <td>86.415197</td>\n",
       "    </tr>\n",
       "    <tr>\n",
       "      <th>3</th>\n",
       "      <td>3</td>\n",
       "      <td>80.387361</td>\n",
       "    </tr>\n",
       "    <tr>\n",
       "      <th>4</th>\n",
       "      <td>4</td>\n",
       "      <td>76.669249</td>\n",
       "    </tr>\n",
       "  </tbody>\n",
       "</table>\n",
       "</div>"
      ],
      "text/plain": [
       "   % studentID   avgScore \n",
       "0            0   81.563259\n",
       "1            1   67.426527\n",
       "2            2   86.415197\n",
       "3            3   80.387361\n",
       "4            4   76.669249"
      ]
     },
     "execution_count": 16,
     "metadata": {},
     "output_type": "execute_result"
    }
   ],
   "source": [
    "new_df2.head()\n"
   ]
  },
  {
   "cell_type": "code",
   "execution_count": 19,
   "id": "c12647eb",
   "metadata": {},
   "outputs": [
    {
     "data": {
      "image/png": "[encoded data removed]",
      "text/plain": [
       "<Figure size 1000x600 with 1 Axes>"
      ]
     },
     "metadata": {},
     "output_type": "display_data"
    }
   ],
   "source": [
    "# Define the bins and labels for the histogram\n",
    "bins = [0, 60, 70, 80, 90, 100]\n",
    "BinLabels = ['F', 'D', 'C', 'B', 'A']\n",
    "\n",
    "# Categorize 'avgScore' into letter grades\n",
    "new_df2['letterGrade'] = pd.cut(new_df2[' avgScore '], bins=bins, labels=BinLabels, right=False, include_lowest=True)\n",
    "\n",
    "# Count the number of students in each grade\n",
    "gradeCount = new_df2['letterGrade'].value_counts().reindex(BinLabels, fill_value=0)\n",
    "\n",
    "# Plot setup\n",
    "plt.figure(figsize=(10, 6))  # Optional: Set the figure size\n",
    "plt.bar(gradeCount.index, gradeCount.values, color='orange', edgecolor='black')\n",
    "\n",
    "# Adding counts above bars\n",
    "for i, count in enumerate(gradeCount.values):\n",
    "    plt.text(i, count, str(count), fontsize=10, color='black', ha='center', va='bottom')\n",
    "\n",
    "# Setting x-axis ticks to align with bars\n",
    "plt.xticks(range(len(BinLabels)), BinLabels)\n",
    "\n",
    "# Axis labels and plot title\n",
    "plt.xlabel('Grade')\n",
    "plt.ylabel('Number of Students')\n",
    "plt.title('Grade Distribution')\n",
    "\n",
    "# Adding a grid for readability\n",
    "plt.grid(axis='y', linestyle='--', alpha=0.7)\n",
    "\n",
    "# Adjust plot layout\n",
    "plt.tight_layout()\n",
    "plt.show()"
   ]
  },
  {
   "cell_type": "markdown",
   "id": "4cefaad4",
   "metadata": {},
   "source": [
    "3.Barplots and Boxlots in the Same Figure"
   ]
  },
  {
   "cell_type": "code",
   "execution_count": 20,
   "id": "4df63971",
   "metadata": {},
   "outputs": [
    {
     "data": {
      "text/html": [
       "<div>\n",
       "<style scoped>\n",
       "    .dataframe tbody tr th:only-of-type {\n",
       "        vertical-align: middle;\n",
       "    }\n",
       "\n",
       "    .dataframe tbody tr th {\n",
       "        vertical-align: top;\n",
       "    }\n",
       "\n",
       "    .dataframe thead th {\n",
       "        text-align: right;\n",
       "    }\n",
       "</style>\n",
       "<table border=\"1\" class=\"dataframe\">\n",
       "  <thead>\n",
       "    <tr style=\"text-align: right;\">\n",
       "      <th></th>\n",
       "      <th>% Problem</th>\n",
       "      <th>SolnMethod</th>\n",
       "      <th>Value</th>\n",
       "    </tr>\n",
       "  </thead>\n",
       "  <tbody>\n",
       "    <tr>\n",
       "      <th>0</th>\n",
       "      <td>0</td>\n",
       "      <td>genetic algorithm</td>\n",
       "      <td>112.749860</td>\n",
       "    </tr>\n",
       "    <tr>\n",
       "      <th>1</th>\n",
       "      <td>0</td>\n",
       "      <td>simulated annealing</td>\n",
       "      <td>75.220917</td>\n",
       "    </tr>\n",
       "    <tr>\n",
       "      <th>2</th>\n",
       "      <td>0</td>\n",
       "      <td>tabu search</td>\n",
       "      <td>111.574225</td>\n",
       "    </tr>\n",
       "    <tr>\n",
       "      <th>3</th>\n",
       "      <td>0</td>\n",
       "      <td>optimal</td>\n",
       "      <td>166.170172</td>\n",
       "    </tr>\n",
       "    <tr>\n",
       "      <th>4</th>\n",
       "      <td>1</td>\n",
       "      <td>genetic algorithm</td>\n",
       "      <td>31.819762</td>\n",
       "    </tr>\n",
       "  </tbody>\n",
       "</table>\n",
       "</div>"
      ],
      "text/plain": [
       "   % Problem           SolnMethod       Value\n",
       "0          0    genetic algorithm  112.749860\n",
       "1          0  simulated annealing   75.220917\n",
       "2          0          tabu search  111.574225\n",
       "3          0              optimal  166.170172\n",
       "4          1    genetic algorithm   31.819762"
      ]
     },
     "execution_count": 20,
     "metadata": {},
     "output_type": "execute_result"
    }
   ],
   "source": [
    "df3=pd.read_csv(\"solution_data.csv\")\n",
    "df3.head()"
   ]
  },
  {
   "cell_type": "code",
   "execution_count": 21,
   "id": "675424d6",
   "metadata": {},
   "outputs": [
    {
     "data": {
      "text/plain": [
       "% Problem       int64\n",
       "SolnMethod     object\n",
       "Value         float64\n",
       "dtype: object"
      ]
     },
     "execution_count": 21,
     "metadata": {},
     "output_type": "execute_result"
    }
   ],
   "source": [
    "df3.dtypes"
   ]
  },
  {
   "cell_type": "code",
   "execution_count": 22,
   "id": "e4c2cb8a",
   "metadata": {},
   "outputs": [
    {
     "data": {
      "text/plain": [
       "Index(['% Problem', 'SolnMethod', 'Value'], dtype='object')"
      ]
     },
     "execution_count": 22,
     "metadata": {},
     "output_type": "execute_result"
    }
   ],
   "source": [
    "df3.columns"
   ]
  },
  {
   "cell_type": "code",
   "execution_count": 23,
   "id": "59232b9a",
   "metadata": {},
   "outputs": [
    {
     "data": {
      "text/html": [
       "<div>\n",
       "<style scoped>\n",
       "    .dataframe tbody tr th:only-of-type {\n",
       "        vertical-align: middle;\n",
       "    }\n",
       "\n",
       "    .dataframe tbody tr th {\n",
       "        vertical-align: top;\n",
       "    }\n",
       "\n",
       "    .dataframe thead th {\n",
       "        text-align: right;\n",
       "    }\n",
       "</style>\n",
       "<table border=\"1\" class=\"dataframe\">\n",
       "  <thead>\n",
       "    <tr style=\"text-align: right;\">\n",
       "      <th></th>\n",
       "      <th>% Problem</th>\n",
       "      <th>SolnMethod</th>\n",
       "      <th>Value</th>\n",
       "    </tr>\n",
       "  </thead>\n",
       "  <tbody>\n",
       "  </tbody>\n",
       "</table>\n",
       "</div>"
      ],
      "text/plain": [
       "Empty DataFrame\n",
       "Columns: [% Problem, SolnMethod, Value]\n",
       "Index: []"
      ]
     },
     "execution_count": 23,
     "metadata": {},
     "output_type": "execute_result"
    }
   ],
   "source": [
    "check3_1=df3['% Problem'].astype(str).str.startswith(\"%\")\n",
    "check3_2=df3['SolnMethod'].str.startswith(\"%\")\n",
    "check3_3=df3[\"Value\"].astype(str).str.startswith(\"%\")\n",
    "new_df3=df3[check3_1]\n",
    "new_df3=df3[check3_2]\n",
    "new_df3=df3[check3_3]\n",
    "new_df3['% Problem']=new_df3['% Problem'].astype(str).str.replace(\"%\",\"\")\n",
    "new_df3[\"Value\"]=new_df3[\"Value\"].astype(str).str.replace(\"%\",\"\")\n",
    "\n",
    "new_df3.head()"
   ]
  },
  {
   "cell_type": "code",
   "execution_count": 24,
   "id": "1bf94c95",
   "metadata": {},
   "outputs": [
    {
     "data": {
      "text/html": [
       "<div>\n",
       "<style scoped>\n",
       "    .dataframe tbody tr th:only-of-type {\n",
       "        vertical-align: middle;\n",
       "    }\n",
       "\n",
       "    .dataframe tbody tr th {\n",
       "        vertical-align: top;\n",
       "    }\n",
       "\n",
       "    .dataframe thead th {\n",
       "        text-align: right;\n",
       "    }\n",
       "</style>\n",
       "<table border=\"1\" class=\"dataframe\">\n",
       "  <thead>\n",
       "    <tr style=\"text-align: right;\">\n",
       "      <th></th>\n",
       "      <th>% Problem</th>\n",
       "      <th>SolnMethod</th>\n",
       "      <th>Value</th>\n",
       "    </tr>\n",
       "  </thead>\n",
       "  <tbody>\n",
       "    <tr>\n",
       "      <th>0</th>\n",
       "      <td>0</td>\n",
       "      <td>genetic algorithm</td>\n",
       "      <td>112.749860</td>\n",
       "    </tr>\n",
       "    <tr>\n",
       "      <th>1</th>\n",
       "      <td>0</td>\n",
       "      <td>simulated annealing</td>\n",
       "      <td>75.220917</td>\n",
       "    </tr>\n",
       "    <tr>\n",
       "      <th>2</th>\n",
       "      <td>0</td>\n",
       "      <td>tabu search</td>\n",
       "      <td>111.574225</td>\n",
       "    </tr>\n",
       "    <tr>\n",
       "      <th>3</th>\n",
       "      <td>0</td>\n",
       "      <td>optimal</td>\n",
       "      <td>166.170172</td>\n",
       "    </tr>\n",
       "    <tr>\n",
       "      <th>4</th>\n",
       "      <td>1</td>\n",
       "      <td>genetic algorithm</td>\n",
       "      <td>31.819762</td>\n",
       "    </tr>\n",
       "  </tbody>\n",
       "</table>\n",
       "</div>"
      ],
      "text/plain": [
       "   % Problem           SolnMethod       Value\n",
       "0          0    genetic algorithm  112.749860\n",
       "1          0  simulated annealing   75.220917\n",
       "2          0          tabu search  111.574225\n",
       "3          0              optimal  166.170172\n",
       "4          1    genetic algorithm   31.819762"
      ]
     },
     "execution_count": 24,
     "metadata": {},
     "output_type": "execute_result"
    }
   ],
   "source": [
    "new_df3[\"% Problem\"]=pd.to_numeric(df3[\"% Problem\"],errors=\"coerce\")\n",
    "new_df3[\"SolnMethod\"]=df3[\"SolnMethod\"]\n",
    "new_df3[\"Value\"]=pd.to_numeric(df3[\"Value\"],errors=\"coerce\")\n",
    "new_df3.dtypes\n",
    "new_df3.head()"
   ]
  },
  {
   "cell_type": "code",
   "execution_count": 25,
   "id": "b1eda5d7",
   "metadata": {},
   "outputs": [
    {
     "data": {
      "text/html": [
       "<div>\n",
       "<style scoped>\n",
       "    .dataframe tbody tr th:only-of-type {\n",
       "        vertical-align: middle;\n",
       "    }\n",
       "\n",
       "    .dataframe tbody tr th {\n",
       "        vertical-align: top;\n",
       "    }\n",
       "\n",
       "    .dataframe thead th {\n",
       "        text-align: right;\n",
       "    }\n",
       "</style>\n",
       "<table border=\"1\" class=\"dataframe\">\n",
       "  <thead>\n",
       "    <tr style=\"text-align: right;\">\n",
       "      <th></th>\n",
       "      <th>% Problem</th>\n",
       "      <th>SolnMethod</th>\n",
       "      <th>Value</th>\n",
       "      <th>Opt_Ofv</th>\n",
       "    </tr>\n",
       "  </thead>\n",
       "  <tbody>\n",
       "    <tr>\n",
       "      <th>0</th>\n",
       "      <td>0</td>\n",
       "      <td>genetic algorithm</td>\n",
       "      <td>112.749860</td>\n",
       "      <td>166.170172</td>\n",
       "    </tr>\n",
       "    <tr>\n",
       "      <th>1</th>\n",
       "      <td>0</td>\n",
       "      <td>simulated annealing</td>\n",
       "      <td>75.220917</td>\n",
       "      <td>166.170172</td>\n",
       "    </tr>\n",
       "    <tr>\n",
       "      <th>2</th>\n",
       "      <td>0</td>\n",
       "      <td>tabu search</td>\n",
       "      <td>111.574225</td>\n",
       "      <td>166.170172</td>\n",
       "    </tr>\n",
       "    <tr>\n",
       "      <th>3</th>\n",
       "      <td>0</td>\n",
       "      <td>optimal</td>\n",
       "      <td>166.170172</td>\n",
       "      <td>166.170172</td>\n",
       "    </tr>\n",
       "    <tr>\n",
       "      <th>4</th>\n",
       "      <td>1</td>\n",
       "      <td>genetic algorithm</td>\n",
       "      <td>31.819762</td>\n",
       "      <td>48.634470</td>\n",
       "    </tr>\n",
       "  </tbody>\n",
       "</table>\n",
       "</div>"
      ],
      "text/plain": [
       "   % Problem           SolnMethod       Value     Opt_Ofv\n",
       "0          0    genetic algorithm  112.749860  166.170172\n",
       "1          0  simulated annealing   75.220917  166.170172\n",
       "2          0          tabu search  111.574225  166.170172\n",
       "3          0              optimal  166.170172  166.170172\n",
       "4          1    genetic algorithm   31.819762   48.634470"
      ]
     },
     "execution_count": 25,
     "metadata": {},
     "output_type": "execute_result"
    }
   ],
   "source": [
    "opt_ofv=new_df3.groupby(\"% Problem\")[\"Value\"].max().reset_index()\n",
    "opt_ofv.rename(columns={'Value':'Opt_Ofv'},inplace=True)\n",
    "new_df3=new_df3.merge(opt_ofv,on='% Problem',how='left')\n",
    "new_df3.head()"
   ]
  },
  {
   "cell_type": "code",
   "execution_count": 26,
   "id": "3c18c2ca",
   "metadata": {},
   "outputs": [
    {
     "data": {
      "text/html": [
       "<div>\n",
       "<style scoped>\n",
       "    .dataframe tbody tr th:only-of-type {\n",
       "        vertical-align: middle;\n",
       "    }\n",
       "\n",
       "    .dataframe tbody tr th {\n",
       "        vertical-align: top;\n",
       "    }\n",
       "\n",
       "    .dataframe thead th {\n",
       "        text-align: right;\n",
       "    }\n",
       "</style>\n",
       "<table border=\"1\" class=\"dataframe\">\n",
       "  <thead>\n",
       "    <tr style=\"text-align: right;\">\n",
       "      <th></th>\n",
       "      <th>% Problem</th>\n",
       "      <th>SolnMethod</th>\n",
       "      <th>Value</th>\n",
       "      <th>Opt_Ofv</th>\n",
       "      <th>Gap</th>\n",
       "      <th>Avg_Ofv</th>\n",
       "    </tr>\n",
       "  </thead>\n",
       "  <tbody>\n",
       "    <tr>\n",
       "      <th>0</th>\n",
       "      <td>0</td>\n",
       "      <td>genetic algorithm</td>\n",
       "      <td>112.749860</td>\n",
       "      <td>166.170172</td>\n",
       "      <td>32.147955</td>\n",
       "      <td>91.632316</td>\n",
       "    </tr>\n",
       "    <tr>\n",
       "      <th>1</th>\n",
       "      <td>0</td>\n",
       "      <td>simulated annealing</td>\n",
       "      <td>75.220917</td>\n",
       "      <td>166.170172</td>\n",
       "      <td>54.732600</td>\n",
       "      <td>91.632316</td>\n",
       "    </tr>\n",
       "    <tr>\n",
       "      <th>2</th>\n",
       "      <td>0</td>\n",
       "      <td>tabu search</td>\n",
       "      <td>111.574225</td>\n",
       "      <td>166.170172</td>\n",
       "      <td>32.855444</td>\n",
       "      <td>91.632316</td>\n",
       "    </tr>\n",
       "    <tr>\n",
       "      <th>3</th>\n",
       "      <td>0</td>\n",
       "      <td>optimal</td>\n",
       "      <td>166.170172</td>\n",
       "      <td>166.170172</td>\n",
       "      <td>0.000000</td>\n",
       "      <td>91.632316</td>\n",
       "    </tr>\n",
       "    <tr>\n",
       "      <th>4</th>\n",
       "      <td>1</td>\n",
       "      <td>genetic algorithm</td>\n",
       "      <td>31.819762</td>\n",
       "      <td>48.634470</td>\n",
       "      <td>34.573643</td>\n",
       "      <td>91.632316</td>\n",
       "    </tr>\n",
       "  </tbody>\n",
       "</table>\n",
       "</div>"
      ],
      "text/plain": [
       "   % Problem           SolnMethod       Value     Opt_Ofv        Gap  \\\n",
       "0          0    genetic algorithm  112.749860  166.170172  32.147955   \n",
       "1          0  simulated annealing   75.220917  166.170172  54.732600   \n",
       "2          0          tabu search  111.574225  166.170172  32.855444   \n",
       "3          0              optimal  166.170172  166.170172   0.000000   \n",
       "4          1    genetic algorithm   31.819762   48.634470  34.573643   \n",
       "\n",
       "     Avg_Ofv  \n",
       "0  91.632316  \n",
       "1  91.632316  \n",
       "2  91.632316  \n",
       "3  91.632316  \n",
       "4  91.632316  "
      ]
     },
     "execution_count": 26,
     "metadata": {},
     "output_type": "execute_result"
    }
   ],
   "source": [
    "#considering highest values for each heristic as optimal OFV since it is a maximization problem.\n",
    "values=((new_df3[\"Opt_Ofv\"]-new_df3[\"Value\"])/new_df3[\"Opt_Ofv\"])*100\n",
    "new_df3[\"Gap\"]=values\n",
    "avg_ofv=new_df3.groupby(\"SolnMethod\")[\"Opt_Ofv\"].mean().reset_index()\n",
    "avg_ofv.rename(columns={'Opt_Ofv':'Avg_Ofv'},inplace=True)\n",
    "new_df3=new_df3.merge(avg_ofv,on='SolnMethod',how='left')\n",
    "new_df3.head()\n"
   ]
  },
  {
   "cell_type": "code",
   "execution_count": 27,
   "id": "3b941602",
   "metadata": {},
   "outputs": [
    {
     "data": {
      "text/html": [
       "<div>\n",
       "<style scoped>\n",
       "    .dataframe tbody tr th:only-of-type {\n",
       "        vertical-align: middle;\n",
       "    }\n",
       "\n",
       "    .dataframe tbody tr th {\n",
       "        vertical-align: top;\n",
       "    }\n",
       "\n",
       "    .dataframe thead th {\n",
       "        text-align: right;\n",
       "    }\n",
       "</style>\n",
       "<table border=\"1\" class=\"dataframe\">\n",
       "  <thead>\n",
       "    <tr style=\"text-align: right;\">\n",
       "      <th></th>\n",
       "      <th>genetic algorithm</th>\n",
       "      <th>simulated annealing</th>\n",
       "      <th>tabu search</th>\n",
       "    </tr>\n",
       "  </thead>\n",
       "  <tbody>\n",
       "    <tr>\n",
       "      <th>0</th>\n",
       "      <td>32.147955</td>\n",
       "      <td>54.732600</td>\n",
       "      <td>32.855444</td>\n",
       "    </tr>\n",
       "    <tr>\n",
       "      <th>1</th>\n",
       "      <td>34.573643</td>\n",
       "      <td>30.060710</td>\n",
       "      <td>15.651159</td>\n",
       "    </tr>\n",
       "    <tr>\n",
       "      <th>2</th>\n",
       "      <td>34.027413</td>\n",
       "      <td>56.900812</td>\n",
       "      <td>44.991033</td>\n",
       "    </tr>\n",
       "    <tr>\n",
       "      <th>3</th>\n",
       "      <td>32.186970</td>\n",
       "      <td>48.344138</td>\n",
       "      <td>24.379735</td>\n",
       "    </tr>\n",
       "    <tr>\n",
       "      <th>4</th>\n",
       "      <td>32.819833</td>\n",
       "      <td>56.088454</td>\n",
       "      <td>23.033096</td>\n",
       "    </tr>\n",
       "  </tbody>\n",
       "</table>\n",
       "</div>"
      ],
      "text/plain": [
       "   genetic algorithm  simulated annealing  tabu search\n",
       "0          32.147955            54.732600    32.855444\n",
       "1          34.573643            30.060710    15.651159\n",
       "2          34.027413            56.900812    44.991033\n",
       "3          32.186970            48.344138    24.379735\n",
       "4          32.819833            56.088454    23.033096"
      ]
     },
     "execution_count": 27,
     "metadata": {},
     "output_type": "execute_result"
    }
   ],
   "source": [
    "grp=new_df3.groupby('SolnMethod')['Gap'].apply(list)\n",
    "soln=grp.to_dict()\n",
    "d1=pd.DataFrame(soln)\n",
    "d1=d1.drop(columns=['optimal'])\n",
    "d1.head()"
   ]
  },
  {
   "cell_type": "code",
   "execution_count": 28,
   "id": "7a612188",
   "metadata": {},
   "outputs": [
    {
     "name": "stderr",
     "output_type": "stream",
     "text": [
      "C:\\Users\\lasvi\\AppData\\Local\\Temp\\ipykernel_17600\\3206079607.py:7: UserWarning: FixedFormatter should only be used together with FixedLocator\n",
      "  axs[0].set_xticklabels(heuristics)\n"
     ]
    },
    {
     "data": {
      "image/png": "[encoded data removed]",
      "text/plain": [
       "<Figure size 1200x600 with 2 Axes>"
      ]
     },
     "metadata": {},
     "output_type": "display_data"
    }
   ],
   "source": [
    "heuristics=[\"genetic algorithm\",\"simulated annealing\",\"tabu search\"]\n",
    "\n",
    "new_df3=new_df3[new_df3[\"SolnMethod\"]!=\"optimal\"]\n",
    "\n",
    "fig,axs=plt.subplots(1,2,figsize=(12,6))\n",
    "axs[0].bar(heuristics, new_df3.groupby(\"SolnMethod\")[\"Gap\"].mean(), color='orange', edgecolor='black')\n",
    "axs[0].set_xticklabels(heuristics)\n",
    "axs[0].set_xlabel(\"Heuristic Method\")\n",
    "axs[0].set_ylabel('Optimality Gap (%)')\n",
    "axs[0].set_title('Mean Gaps')\n",
    "axs[0].set_ylim(0,69)\n",
    "\n",
    "\n",
    "box = axs[1].boxplot(d1, patch_artist=True, labels=heuristics)\n",
    "axs[1].set_title('Distribution of Gaps')\n",
    "axs[1].set_xlabel('Heuristic Method')\n",
    "axs[1].set_ylim(0,69)\n",
    "axs[0].set_ylim(axs[1].get_ylim())\n",
    "\n",
    "# Coloring the median line of the boxplot orange\n",
    "for median in box['medians']:\n",
    "    median.set(color='orange', linewidth=2)\n",
    "\n",
    "# Setting the background color for the boxplot\n",
    "for patch in box['boxes']:\n",
    "    patch.set_facecolor('white')\n",
    "\n",
    "# Setting title for the whole figure\n",
    "fig.suptitle('Comparison of Optimality Gaps for Heuristics')\n",
    "\n",
    "plt.tight_layout()\n",
    "plt.show()\n"
   ]
  },
  {
   "cell_type": "markdown",
   "id": "1779d895",
   "metadata": {},
   "source": [
    "# Part 2 - Explore New Plot types"
   ]
  },
  {
   "cell_type": "code",
   "execution_count": 29,
   "id": "178edb93",
   "metadata": {},
   "outputs": [
    {
     "data": {
      "text/html": [
       "<div>\n",
       "<style scoped>\n",
       "    .dataframe tbody tr th:only-of-type {\n",
       "        vertical-align: middle;\n",
       "    }\n",
       "\n",
       "    .dataframe tbody tr th {\n",
       "        vertical-align: top;\n",
       "    }\n",
       "\n",
       "    .dataframe thead th {\n",
       "        text-align: right;\n",
       "    }\n",
       "</style>\n",
       "<table border=\"1\" class=\"dataframe\">\n",
       "  <thead>\n",
       "    <tr style=\"text-align: right;\">\n",
       "      <th></th>\n",
       "      <th>Age</th>\n",
       "      <th>Attrition</th>\n",
       "      <th>BusinessTravel</th>\n",
       "      <th>DailyRate</th>\n",
       "      <th>Department</th>\n",
       "      <th>DistanceFromHome</th>\n",
       "      <th>Education</th>\n",
       "      <th>EducationField</th>\n",
       "      <th>EmployeeCount</th>\n",
       "      <th>EmployeeNumber</th>\n",
       "      <th>...</th>\n",
       "      <th>RelationshipSatisfaction</th>\n",
       "      <th>StandardHours</th>\n",
       "      <th>StockOptionLevel</th>\n",
       "      <th>TotalWorkingYears</th>\n",
       "      <th>TrainingTimesLastYear</th>\n",
       "      <th>WorkLifeBalance</th>\n",
       "      <th>YearsAtCompany</th>\n",
       "      <th>YearsInCurrentRole</th>\n",
       "      <th>YearsSinceLastPromotion</th>\n",
       "      <th>YearsWithCurrManager</th>\n",
       "    </tr>\n",
       "  </thead>\n",
       "  <tbody>\n",
       "    <tr>\n",
       "      <th>0</th>\n",
       "      <td>41</td>\n",
       "      <td>Yes</td>\n",
       "      <td>Travel_Rarely</td>\n",
       "      <td>1102</td>\n",
       "      <td>Sales</td>\n",
       "      <td>1</td>\n",
       "      <td>2</td>\n",
       "      <td>Life Sciences</td>\n",
       "      <td>1</td>\n",
       "      <td>1</td>\n",
       "      <td>...</td>\n",
       "      <td>1</td>\n",
       "      <td>80</td>\n",
       "      <td>0</td>\n",
       "      <td>8</td>\n",
       "      <td>0</td>\n",
       "      <td>1</td>\n",
       "      <td>6</td>\n",
       "      <td>4</td>\n",
       "      <td>0</td>\n",
       "      <td>5</td>\n",
       "    </tr>\n",
       "    <tr>\n",
       "      <th>1</th>\n",
       "      <td>49</td>\n",
       "      <td>No</td>\n",
       "      <td>Travel_Frequently</td>\n",
       "      <td>279</td>\n",
       "      <td>Research &amp; Development</td>\n",
       "      <td>8</td>\n",
       "      <td>1</td>\n",
       "      <td>Life Sciences</td>\n",
       "      <td>1</td>\n",
       "      <td>2</td>\n",
       "      <td>...</td>\n",
       "      <td>4</td>\n",
       "      <td>80</td>\n",
       "      <td>1</td>\n",
       "      <td>10</td>\n",
       "      <td>3</td>\n",
       "      <td>3</td>\n",
       "      <td>10</td>\n",
       "      <td>7</td>\n",
       "      <td>1</td>\n",
       "      <td>7</td>\n",
       "    </tr>\n",
       "    <tr>\n",
       "      <th>2</th>\n",
       "      <td>37</td>\n",
       "      <td>Yes</td>\n",
       "      <td>Travel_Rarely</td>\n",
       "      <td>1373</td>\n",
       "      <td>Research &amp; Development</td>\n",
       "      <td>2</td>\n",
       "      <td>2</td>\n",
       "      <td>Other</td>\n",
       "      <td>1</td>\n",
       "      <td>4</td>\n",
       "      <td>...</td>\n",
       "      <td>2</td>\n",
       "      <td>80</td>\n",
       "      <td>0</td>\n",
       "      <td>7</td>\n",
       "      <td>3</td>\n",
       "      <td>3</td>\n",
       "      <td>0</td>\n",
       "      <td>0</td>\n",
       "      <td>0</td>\n",
       "      <td>0</td>\n",
       "    </tr>\n",
       "    <tr>\n",
       "      <th>3</th>\n",
       "      <td>33</td>\n",
       "      <td>No</td>\n",
       "      <td>Travel_Frequently</td>\n",
       "      <td>1392</td>\n",
       "      <td>Research &amp; Development</td>\n",
       "      <td>3</td>\n",
       "      <td>4</td>\n",
       "      <td>Life Sciences</td>\n",
       "      <td>1</td>\n",
       "      <td>5</td>\n",
       "      <td>...</td>\n",
       "      <td>3</td>\n",
       "      <td>80</td>\n",
       "      <td>0</td>\n",
       "      <td>8</td>\n",
       "      <td>3</td>\n",
       "      <td>3</td>\n",
       "      <td>8</td>\n",
       "      <td>7</td>\n",
       "      <td>3</td>\n",
       "      <td>0</td>\n",
       "    </tr>\n",
       "    <tr>\n",
       "      <th>4</th>\n",
       "      <td>27</td>\n",
       "      <td>No</td>\n",
       "      <td>Travel_Rarely</td>\n",
       "      <td>591</td>\n",
       "      <td>Research &amp; Development</td>\n",
       "      <td>2</td>\n",
       "      <td>1</td>\n",
       "      <td>Medical</td>\n",
       "      <td>1</td>\n",
       "      <td>7</td>\n",
       "      <td>...</td>\n",
       "      <td>4</td>\n",
       "      <td>80</td>\n",
       "      <td>1</td>\n",
       "      <td>6</td>\n",
       "      <td>3</td>\n",
       "      <td>3</td>\n",
       "      <td>2</td>\n",
       "      <td>2</td>\n",
       "      <td>2</td>\n",
       "      <td>2</td>\n",
       "    </tr>\n",
       "  </tbody>\n",
       "</table>\n",
       "<p>5 rows × 35 columns</p>\n",
       "</div>"
      ],
      "text/plain": [
       "   Age Attrition     BusinessTravel  DailyRate              Department  \\\n",
       "0   41       Yes      Travel_Rarely       1102                   Sales   \n",
       "1   49        No  Travel_Frequently        279  Research & Development   \n",
       "2   37       Yes      Travel_Rarely       1373  Research & Development   \n",
       "3   33        No  Travel_Frequently       1392  Research & Development   \n",
       "4   27        No      Travel_Rarely        591  Research & Development   \n",
       "\n",
       "   DistanceFromHome  Education EducationField  EmployeeCount  EmployeeNumber  \\\n",
       "0                 1          2  Life Sciences              1               1   \n",
       "1                 8          1  Life Sciences              1               2   \n",
       "2                 2          2          Other              1               4   \n",
       "3                 3          4  Life Sciences              1               5   \n",
       "4                 2          1        Medical              1               7   \n",
       "\n",
       "   ...  RelationshipSatisfaction StandardHours  StockOptionLevel  \\\n",
       "0  ...                         1            80                 0   \n",
       "1  ...                         4            80                 1   \n",
       "2  ...                         2            80                 0   \n",
       "3  ...                         3            80                 0   \n",
       "4  ...                         4            80                 1   \n",
       "\n",
       "   TotalWorkingYears  TrainingTimesLastYear WorkLifeBalance  YearsAtCompany  \\\n",
       "0                  8                      0               1               6   \n",
       "1                 10                      3               3              10   \n",
       "2                  7                      3               3               0   \n",
       "3                  8                      3               3               8   \n",
       "4                  6                      3               3               2   \n",
       "\n",
       "  YearsInCurrentRole  YearsSinceLastPromotion  YearsWithCurrManager  \n",
       "0                  4                        0                     5  \n",
       "1                  7                        1                     7  \n",
       "2                  0                        0                     0  \n",
       "3                  7                        3                     0  \n",
       "4                  2                        2                     2  \n",
       "\n",
       "[5 rows x 35 columns]"
      ]
     },
     "execution_count": 29,
     "metadata": {},
     "output_type": "execute_result"
    }
   ],
   "source": [
    "data_viz=pd.read_csv(\"HR Employee Attrition.csv\")\n",
    "data_viz.head()"
   ]
  },
  {
   "cell_type": "code",
   "execution_count": 30,
   "id": "415db611",
   "metadata": {},
   "outputs": [
    {
     "data": {
      "image/png": "[encoded data removed]",
      "text/plain": [
       "<Figure size 640x480 with 1 Axes>"
      ]
     },
     "metadata": {},
     "output_type": "display_data"
    }
   ],
   "source": [
    "#violin plot\n",
    "import seaborn as sns\n",
    "sns.violinplot(x=\"Age\",y=\"BusinessTravel\",data=data_viz,palette=\"Set2\", bw =.2, cut=2, linewidth=3)\n",
    "plt.show()"
   ]
  },
  {
   "cell_type": "markdown",
   "id": "75270fd9",
   "metadata": {},
   "source": [
    "Link for plot type : https://mode.com/blog/violin-plot-examples/"
   ]
  },
  {
   "cell_type": "markdown",
   "id": "1a38eebd",
   "metadata": {},
   "source": [
    "Link for Dataset : https://www.kaggle.com/datasets/whenamancodes/hr-employee-attrition"
   ]
  },
  {
   "cell_type": "code",
   "execution_count": null,
   "id": "ffe878a5",
   "metadata": {},
   "outputs": [],
   "source": []
  }
 ],
 "metadata": {
  "kernelspec": {
   "display_name": "Python 3 (ipykernel)",
   "language": "python",
   "name": "python3"
  },
  "language_info": {
   "codemirror_mode": {
    "name": "ipython",
    "version": 3
   },
   "file_extension": ".py",
   "mimetype": "text/x-python",
   "name": "python",
   "nbconvert_exporter": "python",
   "pygments_lexer": "ipython3",
   "version": "3.11.4"
  }
 },
 "nbformat": 4,
 "nbformat_minor": 5
}
